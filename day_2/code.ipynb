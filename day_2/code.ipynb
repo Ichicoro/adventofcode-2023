{
 "cells": [
  {
   "cell_type": "markdown",
   "metadata": {},
   "source": [
    "### Part 1"
   ]
  },
  {
   "cell_type": "code",
   "execution_count": 1,
   "metadata": {},
   "outputs": [
    {
     "ename": "FileNotFoundError",
     "evalue": "[Errno 2] No such file or directory: 'day2input.txt'",
     "output_type": "error",
     "traceback": [
      "\u001b[0;31m---------------------------------------------------------------------------\u001b[0m",
      "\u001b[0;31mFileNotFoundError\u001b[0m                         Traceback (most recent call last)",
      "\u001b[1;32m/Users/ichicoro/Projects/adventofcode-2023/day_2/code.ipynb Cell 2\u001b[0m line \u001b[0;36m1\n\u001b[1;32m      <a href='vscode-notebook-cell:/Users/ichicoro/Projects/adventofcode-2023/day_2/code.ipynb#W2sZmlsZQ%3D%3D?line=2'>3</a>\u001b[0m MAX \u001b[39m=\u001b[39m {\n\u001b[1;32m      <a href='vscode-notebook-cell:/Users/ichicoro/Projects/adventofcode-2023/day_2/code.ipynb#W2sZmlsZQ%3D%3D?line=3'>4</a>\u001b[0m     \u001b[39m\"\u001b[39m\u001b[39mred\u001b[39m\u001b[39m\"\u001b[39m: \u001b[39m12\u001b[39m,\n\u001b[1;32m      <a href='vscode-notebook-cell:/Users/ichicoro/Projects/adventofcode-2023/day_2/code.ipynb#W2sZmlsZQ%3D%3D?line=4'>5</a>\u001b[0m     \u001b[39m\"\u001b[39m\u001b[39mgreen\u001b[39m\u001b[39m\"\u001b[39m: \u001b[39m13\u001b[39m,\n\u001b[1;32m      <a href='vscode-notebook-cell:/Users/ichicoro/Projects/adventofcode-2023/day_2/code.ipynb#W2sZmlsZQ%3D%3D?line=5'>6</a>\u001b[0m     \u001b[39m\"\u001b[39m\u001b[39mblue\u001b[39m\u001b[39m\"\u001b[39m: \u001b[39m14\u001b[39m,\n\u001b[1;32m      <a href='vscode-notebook-cell:/Users/ichicoro/Projects/adventofcode-2023/day_2/code.ipynb#W2sZmlsZQ%3D%3D?line=6'>7</a>\u001b[0m }\n\u001b[1;32m      <a href='vscode-notebook-cell:/Users/ichicoro/Projects/adventofcode-2023/day_2/code.ipynb#W2sZmlsZQ%3D%3D?line=8'>9</a>\u001b[0m total \u001b[39m=\u001b[39m \u001b[39m0\u001b[39m\n\u001b[0;32m---> <a href='vscode-notebook-cell:/Users/ichicoro/Projects/adventofcode-2023/day_2/code.ipynb#W2sZmlsZQ%3D%3D?line=10'>11</a>\u001b[0m \u001b[39mwith\u001b[39;00m \u001b[39mopen\u001b[39;49m(\u001b[39m\"\u001b[39;49m\u001b[39mday2input.txt\u001b[39;49m\u001b[39m\"\u001b[39;49m, \u001b[39m\"\u001b[39;49m\u001b[39mr\u001b[39;49m\u001b[39m\"\u001b[39;49m) \u001b[39mas\u001b[39;00m file:\n\u001b[1;32m     <a href='vscode-notebook-cell:/Users/ichicoro/Projects/adventofcode-2023/day_2/code.ipynb#W2sZmlsZQ%3D%3D?line=11'>12</a>\u001b[0m     \u001b[39mfor\u001b[39;00m line \u001b[39min\u001b[39;00m file:\n\u001b[1;32m     <a href='vscode-notebook-cell:/Users/ichicoro/Projects/adventofcode-2023/day_2/code.ipynb#W2sZmlsZQ%3D%3D?line=12'>13</a>\u001b[0m         game_ok \u001b[39m=\u001b[39m \u001b[39mTrue\u001b[39;00m\n",
      "File \u001b[0;32m~/Library/Python/3.11/lib/python/site-packages/IPython/core/interactiveshell.py:310\u001b[0m, in \u001b[0;36m_modified_open\u001b[0;34m(file, *args, **kwargs)\u001b[0m\n\u001b[1;32m    303\u001b[0m \u001b[39mif\u001b[39;00m file \u001b[39min\u001b[39;00m {\u001b[39m0\u001b[39m, \u001b[39m1\u001b[39m, \u001b[39m2\u001b[39m}:\n\u001b[1;32m    304\u001b[0m     \u001b[39mraise\u001b[39;00m \u001b[39mValueError\u001b[39;00m(\n\u001b[1;32m    305\u001b[0m         \u001b[39mf\u001b[39m\u001b[39m\"\u001b[39m\u001b[39mIPython won\u001b[39m\u001b[39m'\u001b[39m\u001b[39mt let you open fd=\u001b[39m\u001b[39m{\u001b[39;00mfile\u001b[39m}\u001b[39;00m\u001b[39m by default \u001b[39m\u001b[39m\"\u001b[39m\n\u001b[1;32m    306\u001b[0m         \u001b[39m\"\u001b[39m\u001b[39mas it is likely to crash IPython. If you know what you are doing, \u001b[39m\u001b[39m\"\u001b[39m\n\u001b[1;32m    307\u001b[0m         \u001b[39m\"\u001b[39m\u001b[39myou can use builtins\u001b[39m\u001b[39m'\u001b[39m\u001b[39m open.\u001b[39m\u001b[39m\"\u001b[39m\n\u001b[1;32m    308\u001b[0m     )\n\u001b[0;32m--> 310\u001b[0m \u001b[39mreturn\u001b[39;00m io_open(file, \u001b[39m*\u001b[39;49margs, \u001b[39m*\u001b[39;49m\u001b[39m*\u001b[39;49mkwargs)\n",
      "\u001b[0;31mFileNotFoundError\u001b[0m: [Errno 2] No such file or directory: 'day2input.txt'"
     ]
    }
   ],
   "source": [
    "import regex as re\n",
    "\n",
    "MAX = {\n",
    "    \"red\": 12,\n",
    "    \"green\": 13,\n",
    "    \"blue\": 14,\n",
    "}\n",
    "\n",
    "total = 0\n",
    "\n",
    "with open(\"input.txt\", \"r\") as file:\n",
    "    for line in file:\n",
    "        game_ok = True\n",
    "        [(game_id, items)] = re.findall(pattern=r'Game (\\d+): (.+)', string=line)\n",
    "        print(f\"game_id = {game_id} - [{items}]\")\n",
    "        for set in items.split(\"; \"):\n",
    "            print(\"\\tset:\", set)\n",
    "            matches = re.findall(pattern=r'(\\d+) (\\w+)', string=set)\n",
    "            for amount, color in matches:\n",
    "                print(\"\\t\\titem:\", amount, color)\n",
    "                if MAX[color] < int(amount):\n",
    "                    game_ok = False\n",
    "                    break\n",
    "            if not game_ok:\n",
    "                break\n",
    "        print(f\"GAME {'OK' if game_ok else 'NOT OK'}\")\n",
    "        if game_ok:\n",
    "            total += int(game_id)\n",
    "print(total)"
   ]
  },
  {
   "cell_type": "markdown",
   "metadata": {},
   "source": [
    "### Part 2"
   ]
  },
  {
   "cell_type": "code",
   "execution_count": null,
   "metadata": {},
   "outputs": [],
   "source": [
    "from functools import reduce\n",
    "import regex as re\n",
    "\n",
    "power_sum = 0\n",
    "\n",
    "with open(\"input.txt\", \"r\") as file:\n",
    "    for line in file:\n",
    "        min_cubes = {\n",
    "            \"red\": 0,\n",
    "            \"green\": 0,\n",
    "            \"blue\": 0,\n",
    "        }\n",
    "        [(game_id, items)] = re.findall(pattern=r'Game (\\d+): (.+)', string=line)\n",
    "        print(f\"game_id = {game_id} - [{items}]\")\n",
    "        for set in items.split(\"; \"):\n",
    "            print(\"\\tset:\", set)\n",
    "            matches = re.findall(pattern=r'(\\d+) (\\w+)', string=set)\n",
    "            for amount, color in matches:\n",
    "                print(\"\\t\\titem:\", amount, color)\n",
    "                if min_cubes[color] < int(amount):\n",
    "                    min_cubes[color] = int(amount)\n",
    "        print(f\"\\tmin_cubes = {min_cubes}\")\n",
    "        cube_power = reduce(lambda x, y: x * y, min_cubes.values(), 1)\n",
    "        print(f\"\\tcube_power = {cube_power}\")\n",
    "        power_sum += cube_power\n",
    "print(power_sum)"
   ]
  }
 ],
 "metadata": {
  "kernelspec": {
   "display_name": "Python 3",
   "language": "python",
   "name": "python3"
  },
  "language_info": {
   "codemirror_mode": {
    "name": "ipython",
    "version": 3
   },
   "file_extension": ".py",
   "mimetype": "text/x-python",
   "name": "python",
   "nbconvert_exporter": "python",
   "pygments_lexer": "ipython3",
   "version": "3.11.4"
  }
 },
 "nbformat": 4,
 "nbformat_minor": 2
}
